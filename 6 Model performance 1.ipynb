{
 "cells": [
  {
   "cell_type": "code",
   "execution_count": 1,
   "id": "28daef04",
   "metadata": {},
   "outputs": [
    {
     "name": "stderr",
     "output_type": "stream",
     "text": [
      "C:\\Users\\20202034\\.conda\\envs\\Geopandas\\lib\\site-packages\\ipykernel_launcher.py:5: DeprecationWarning: Using or importing the ABCs from 'collections' instead of from 'collections.abc' is deprecated since Python 3.3,and in 3.9 it will stop working\n",
      "  \"\"\"\n"
     ]
    }
   ],
   "source": [
    "import sqlite3\n",
    "import re\n",
    "import pandas as pd\n",
    "import plotly.express as px\n",
    "from collections import Iterable\n",
    "from sqlite3 import connect\n",
    "from datetime import datetime\n",
    "import numpy as np\n",
    "import matplotlib.pyplot as plt\n",
    "from sklearn.ensemble import RandomForestRegressor\n",
    "from sklearn import metrics\n",
    "from sklearn.model_selection import TimeSeriesSplit\n",
    "import xgboost as xgb\n",
    "import pmdarima as pm # Make sure to be on geopandas library so that this is properly installed\n",
    "from pmdarima.model_selection import train_test_split # Make sure to be on geopandas library so that this is properly installed"
   ]
  },
  {
   "cell_type": "code",
   "execution_count": null,
   "id": "a2fd4682",
   "metadata": {},
   "outputs": [],
   "source": [
    "df_police_force = pd.read_csv('police force dataset grouped and preprocessed.csv', sep=';')\n",
    "df_police_force_p_month = df_police_force.groupby('Month')['COUNT(*)'].sum()\n",
    "df_police_force_p_month = df_police_force_p_month.to_frame()\n",
    "df_police_force_p_month.reset_index(inplace = True)\n",
    "df_police_force_p_month = df_police_force_p_month.rename(columns = {'COUNT(*)': 'Number of crimes'})\n",
    "# Change to datetime, in order to make it a valid time series\n",
    "df_police_force_p_month['Month'] = pd.to_datetime(df_police_force_p_month['Month'], format=\"%Y-%m\", exact=True)"
   ]
  },
  {
   "cell_type": "code",
   "execution_count": null,
   "id": "f6332d6c",
   "metadata": {},
   "outputs": [],
   "source": [
    "def r2_adj_from_r2(r2,n,k = 1):\n",
    "    #n is the number of values (samples) in the data\n",
    "    #k is the number of variables in the data --> normally 1, namely the time\n",
    "    a1= (1-r2) * (1-n)\n",
    "    a2= n-k-1\n",
    "    a3= 1\n",
    "    r2_adj = a3 - (a1/a2)\n",
    "    return r2_adj\n",
    "\n",
    "# Performance measures based on y_true and y_pred\n",
    "def timeseries_evaluation_metrics_func(y_true, y_pred):\n",
    "    def mean_absolute_percentage_error(y_true, y_pred): \n",
    "        y_true, y_pred = np.array(y_true), np.array(y_pred)\n",
    "        return np.mean(np.abs((y_true - y_pred) / y_true)) * 100\n",
    "    print(f'Number of months in test data: {len(y_true)}')\n",
    "    print('')\n",
    "    print('Evaluation metric results:-')\n",
    "    print(f'(Mean Squared Error) MSE is : {metrics.mean_squared_error(y_true, y_pred)}')\n",
    "    print(f'(Mean Absolute Error) MAE is : {metrics.mean_absolute_error(y_true, y_pred)}')\n",
    "    print(f'(Root Mean Square Error) RMSE is : {np.sqrt(metrics.mean_squared_error(y_true, y_pred))}')\n",
    "    print(f'(Mean Absolute Percentage Error) MAPE is : {mean_absolute_percentage_error(y_true, y_pred)}')\n",
    "    # Computing R^2 by hand:\n",
    "    y_true, y_pred = np.array(y_true), np.array(y_pred)\n",
    "    mean_true = y_true.mean()\n",
    "    R2 = 1 - (sum((y_true - y_pred)**2) / sum((y_true - mean_true)**2))\n",
    "    # Same result with \n",
    "    print(f'(R-Squared) R2 is : {R2}')\n",
    "    adj_R2 = r2_adj_from_r2(R2,len(y_pred))\n",
    "    print(f'(adjusted R-Squared) adj-R2 is : {adj_R2}',end='\\n\\n')\n",
    "    return metrics.mean_squared_error(y_true, y_pred),metrics.mean_absolute_error(y_true, y_pred),np.sqrt(metrics.mean_squared_error(y_true, y_pred)),mean_absolute_percentage_error(y_true, y_pred),R2,adj_R2"
   ]
  },
  {
   "cell_type": "code",
   "execution_count": null,
   "id": "3a21ddda",
   "metadata": {},
   "outputs": [],
   "source": [
    "# Defining the different prediction methods\n",
    "def perform_prediction(method, train, test):\n",
    "    \n",
    "    preds = []\n",
    "    \n",
    "    if method == 'RF':\n",
    "        months = [x.month for x in train.index]\n",
    "        years = [x.year for x in train.index]\n",
    "        # Day is meaningless in our case, they are all on the 1st day of the month because of datetime \n",
    "        # convert into one matrix\n",
    "        x_train = np.array([months, years]).T # Contains the info about the data, so the information, based on which\n",
    "        # predictions should be made.\n",
    "        \n",
    "        months = [x.month for x in test.index]\n",
    "        years = [x.year for x in test.index]\n",
    "        # Day is meaningless in our case, they are all on the 1st day of the month because of datetime \n",
    "        # convert into one matrix\n",
    "        x_test = np.array([months, years]).T\n",
    "    \n",
    "        # fit the model\n",
    "        my_rf = RandomForestRegressor()\n",
    "        my_rf.fit(x_train, train)\n",
    "        model = my_rf\n",
    "\n",
    "        # predict on the same period\n",
    "        preds = my_rf.predict(x_test)\n",
    "        preds = preds.tolist()\n",
    "        \n",
    "    if method == 'ARIMA':\n",
    "        model = pm.auto_arima(train.values, seasonal=True, m=12, start_p=2, \n",
    "                              start_q=2, max_order=5, information_criterion='aic', \n",
    "                              test='kpss', seasonal_test='ocsb', stepwise=True,\n",
    "                              start_params=None, method='lbfgs', trace = True,\n",
    "                              scoring='mse', with_intercept=\"auto\")\n",
    "        # influence: info_crit, test, seasonal_test, method, scoring, with_intercept\n",
    "        preds = model.predict(test.shape[0])\n",
    "\n",
    "    if method == 'XGB':\n",
    "        months = [x.month for x in train.index]\n",
    "        years = [x.year for x in train.index]\n",
    "        # Day is meaningless in our case, they are all on the 1st day of the month because of datetime \n",
    "        # convert into one matrix\n",
    "        x_train = np.array([months, years]).T # Contains the info about the data, so the information, based on which\n",
    "        # predictions should be made.\n",
    "        \n",
    "        months = [x.month for x in test.index]\n",
    "        years = [x.year for x in test.index]\n",
    "        # Day is meaningless in our case, they are all on the 1st day of the month because of datetime \n",
    "        # convert into one matrix\n",
    "        x_test = np.array([months, years]).T\n",
    "        # fit the model\n",
    "        my_xgb = xgb.XGBRegressor()\n",
    "        my_xgb.fit(x_train, train)\n",
    "        model = my_xgb\n",
    "\n",
    "        # predict on the same period\n",
    "        preds = my_xgb.predict(x_test)\n",
    "        preds = preds.tolist()\n",
    "    \n",
    "    return preds, model"
   ]
  },
  {
   "cell_type": "code",
   "execution_count": null,
   "id": "b94d0cc2",
   "metadata": {},
   "outputs": [],
   "source": [
    "def prediction_test(nr_months_in_test, ts, method): # Select number of month to predict\n",
    "        \n",
    "    train, test = ts.iloc[:-nr_months_in_test], ts.iloc[-nr_months_in_test:]\n",
    "    train = train.set_index('Month')\n",
    "    test = test.set_index('Month')\n",
    "    \n",
    "    # Which prediction method to use\n",
    "    y_pred, model = perform_prediction(method, train, test)\n",
    "    \n",
    "    y_true = test['Number of crimes']\n",
    "    y_true = y_true.values.tolist()\n",
    "    # test data is the same as y_true\n",
    "    \n",
    "    return y_pred, y_true, model"
   ]
  },
  {
   "cell_type": "code",
   "execution_count": null,
   "id": "5ae67c5e",
   "metadata": {},
   "outputs": [],
   "source": [
    "y_pred, y_true, model = prediction_test(39, df_police_force_p_month, 'ARIMA')"
   ]
  },
  {
   "cell_type": "code",
   "execution_count": 67,
   "id": "3d524198",
   "metadata": {},
   "outputs": [
    {
     "name": "stdout",
     "output_type": "stream",
     "text": [
      "Number of months in test data: 39\n",
      "\n",
      "Evaluation metric results:-\n",
      "(Mean Squared Error) MSE is : 890380135.4100586\n",
      "(Mean Absolute Error) MAE is : 23057.539890927987\n",
      "(Root Mean Square Error) RMSE is : 29839.238184143687\n",
      "(Mean Absolute Percentage Error) MAPE is : 4.272761207684081\n",
      "(R-Squared) R2 is : -1.121677890757073\n",
      "(adjusted R-Squared) adj-R2 is : 3.17902053645321\n",
      "\n"
     ]
    },
    {
     "data": {
      "text/plain": [
       "(890380135.4100586,\n",
       " 23057.539890927987,\n",
       " 29839.238184143687,\n",
       " 4.272761207684081,\n",
       " -1.121677890757073,\n",
       " 3.17902053645321)"
      ]
     },
     "execution_count": 67,
     "metadata": {},
     "output_type": "execute_result"
    }
   ],
   "source": [
    "timeseries_evaluation_metrics_func(y_pred, y_true)"
   ]
  },
  {
   "cell_type": "code",
   "execution_count": 68,
   "id": "b5c2b483",
   "metadata": {},
   "outputs": [
    {
     "data": {
      "text/plain": [
       "(array([592885.25534286, 569821.15271515, 583744.29905802, 549852.28049969,\n",
       "        520456.93859686, 526630.62177312, 501169.77377343, 537912.09840887,\n",
       "        547651.77683173, 569884.94854803, 569309.92201141, 588508.22282208,\n",
       "        571128.36221151, 550483.50520801, 565484.90490324, 544431.76016402,\n",
       "        523247.11449551, 527426.7717589 , 509460.00997839, 531168.57994285,\n",
       "        536588.67207718, 555183.67479428, 553163.4028745 , 566548.72916762,\n",
       "        554960.98794805, 546703.26836197, 551110.06093719, 537263.6737518 ,\n",
       "        525823.51653102, 528260.66145065, 518286.94900166, 533473.43008963,\n",
       "        537561.19211632, 545701.51925437, 545785.45227655, 553329.58497901,\n",
       "        546396.47553589, 537101.8732194 , 544161.6605747 ]),\n",
       " [580732,\n",
       "  547800,\n",
       "  582858,\n",
       "  548308,\n",
       "  512179,\n",
       "  531272,\n",
       "  509511,\n",
       "  573725,\n",
       "  557767,\n",
       "  576331,\n",
       "  569265,\n",
       "  577119,\n",
       "  548566,\n",
       "  518887,\n",
       "  544119,\n",
       "  513122,\n",
       "  485918,\n",
       "  514274,\n",
       "  490791,\n",
       "  496445,\n",
       "  530315,\n",
       "  573629,\n",
       "  553903,\n",
       "  570674,\n",
       "  575250,\n",
       "  540601,\n",
       "  541980,\n",
       "  507939,\n",
       "  471201,\n",
       "  461332,\n",
       "  444379,\n",
       "  532300,\n",
       "  491416,\n",
       "  505707,\n",
       "  523289,\n",
       "  527494,\n",
       "  494886,\n",
       "  491008,\n",
       "  500439])"
      ]
     },
     "execution_count": 68,
     "metadata": {},
     "output_type": "execute_result"
    }
   ],
   "source": [
    "y_pred, y_true"
   ]
  },
  {
   "cell_type": "markdown",
   "id": "43cedfe7",
   "metadata": {},
   "source": [
    "# Finding average scores for 10 runs"
   ]
  },
  {
   "cell_type": "markdown",
   "id": "a4a68833",
   "metadata": {},
   "source": [
    "Some metrics (RF) are randomized for each time the model is trained. Thus we can run it multiple times and take the average"
   ]
  },
  {
   "cell_type": "code",
   "execution_count": 43,
   "id": "9d26be13",
   "metadata": {},
   "outputs": [],
   "source": [
    "def average_scores_10_trainings(nr_months_in_test, ts, method):\n",
    "    list_mse = []\n",
    "    list_mae = []\n",
    "    list_rmse = []\n",
    "    list_mape = []\n",
    "    list_r2 = []\n",
    "    list_adj_r2 = []\n",
    "    for i in range(10):\n",
    "        y_pred, y_true, model = prediction_test(nr_months_in_test, ts, method)\n",
    "        mse, mae, rmse, mape, r2, adj_r2 = timeseries_evaluation_metrics_func(y_pred, y_true)\n",
    "        list_mse.append(mse)\n",
    "        list_mae.append(mae)\n",
    "        list_rmse.append(rmse)\n",
    "        list_mape.append(mape)\n",
    "        list_r2.append(r2)\n",
    "        list_adj_r2.append(adj_r2)\n",
    "        \n",
    "    list_mse = np.array(list_mse)\n",
    "    list_mae = np.array(list_mae)\n",
    "    list_rmse = np.array(list_rmse)\n",
    "    list_mape = np.array(list_mape)\n",
    "    list_r2 = np.array(list_r2)\n",
    "    list_adj_r2 = np.array(list_adj_r2)\n",
    "    \n",
    "    mse_mean = list_mse.mean()\n",
    "    mae_mean = list_mae.mean()\n",
    "    rmse_mean = list_rmse.mean()\n",
    "    mape_mean = list_mape.mean()\n",
    "    r2_mean = list_r2.mean()\n",
    "    adj_r2_mean = list_adj_r2.mean()\n",
    "    \n",
    "    mse_sd = list_mse\n",
    "    mae_sd = list_mae\n",
    "    rmse_sd = list_rmse\n",
    "    mape_sd = list_mape\n",
    "    r2_sd = list_r2\n",
    "    adj_r2_sd = list_adj_r2\n",
    "    \n",
    "    print(f'Number of months in test data: {len(y_true)}')\n",
    "    print('')\n",
    "    print('Evaluation metric results:-')\n",
    "    print(f'(Average Mean Squared Error) MSE is : {mse_mean}, sd: {mse_sd.mean()}')\n",
    "    print(f'(Average Mean Absolute Error) MAE is : {mae_mean}, sd: {mae_sd.mean()}')\n",
    "    print(f'(Average Root Mean Square Error) RMSE is : {rmse_mean}, sd: {rmse_sd.mean()}')\n",
    "    print(f'(Average Mean Absolute Percentage Error) MAPE is : {mape_mean}, sd: {mape_sd.mean()}')\n",
    "    # Computing R^2 by hand:\n",
    "    y_true, y_pred = np.array(y_true), np.array(y_pred)\n",
    "    mean_true = y_true.mean()\n",
    "    R2 = 1 - (sum((y_true - y_pred)**2) / sum((y_true - mean_true)**2))\n",
    "    # Same result with \n",
    "    print(f'(Average R-Squared) R2 is : {r2_mean}, sd: {r2_sd.mean()}')\n",
    "    adj_R2 = r2_adj_from_r2(R2,len(y_pred))\n",
    "    print(f'(Average adjusted R-Squared) adj-R2 is : {adj_r2_mean}, sd: {adj_r2_sd.mean()}',end='\\n\\n')"
   ]
  },
  {
   "cell_type": "code",
   "execution_count": 48,
   "id": "5952dfa1",
   "metadata": {},
   "outputs": [
    {
     "name": "stderr",
     "output_type": "stream",
     "text": [
      "C:\\Users\\20202034\\.conda\\envs\\Geopandas\\lib\\site-packages\\ipykernel_launcher.py:22: DataConversionWarning: A column-vector y was passed when a 1d array was expected. Please change the shape of y to (n_samples,), for example using ravel().\n",
      "C:\\Users\\20202034\\.conda\\envs\\Geopandas\\lib\\site-packages\\ipykernel_launcher.py:22: DataConversionWarning: A column-vector y was passed when a 1d array was expected. Please change the shape of y to (n_samples,), for example using ravel().\n",
      "C:\\Users\\20202034\\.conda\\envs\\Geopandas\\lib\\site-packages\\ipykernel_launcher.py:22: DataConversionWarning: A column-vector y was passed when a 1d array was expected. Please change the shape of y to (n_samples,), for example using ravel().\n"
     ]
    },
    {
     "name": "stdout",
     "output_type": "stream",
     "text": [
      "Number of months in test data: 18\n",
      "\n",
      "Evaluation metric results:-\n",
      "(Mean Squared Error) MSE is : 1020766549.0407445\n",
      "(Mean Absolute Error) MAE is : 28325.870000000003\n",
      "(Root Mean Square Error) RMSE is : 31949.437382225442\n",
      "(Mean Absolute Percentage Error) MAPE is : 5.3470738207520245\n",
      "(R-Squared) R2 is : -2.1408849448976994\n",
      "(adjusted R-Squared) adj-R2 is : 4.337190253953805\n",
      "\n",
      "Number of months in test data: 18\n",
      "\n",
      "Evaluation metric results:-\n",
      "(Mean Squared Error) MSE is : 1046872273.064567\n",
      "(Mean Absolute Error) MAE is : 28757.49666666667\n",
      "(Root Mean Square Error) RMSE is : 32355.405623551793\n",
      "(Mean Absolute Percentage Error) MAPE is : 5.425956519012027\n",
      "(R-Squared) R2 is : -2.0435471687311706\n",
      "(adjusted R-Squared) adj-R2 is : 4.2337688667768685\n",
      "\n",
      "Number of months in test data: 18\n",
      "\n",
      "Evaluation metric results:-\n"
     ]
    },
    {
     "name": "stderr",
     "output_type": "stream",
     "text": [
      "C:\\Users\\20202034\\.conda\\envs\\Geopandas\\lib\\site-packages\\ipykernel_launcher.py:22: DataConversionWarning: A column-vector y was passed when a 1d array was expected. Please change the shape of y to (n_samples,), for example using ravel().\n",
      "C:\\Users\\20202034\\.conda\\envs\\Geopandas\\lib\\site-packages\\ipykernel_launcher.py:22: DataConversionWarning: A column-vector y was passed when a 1d array was expected. Please change the shape of y to (n_samples,), for example using ravel().\n"
     ]
    },
    {
     "name": "stdout",
     "output_type": "stream",
     "text": [
      "(Mean Squared Error) MSE is : 1098435787.5755668\n",
      "(Mean Absolute Error) MAE is : 28691.651111111114\n",
      "(Root Mean Square Error) RMSE is : 33142.65812477277\n",
      "(Mean Absolute Percentage Error) MAPE is : 5.384847970975674\n",
      "(R-Squared) R2 is : -1.716121340091214\n",
      "(adjusted R-Squared) adj-R2 is : 3.885878923846915\n",
      "\n",
      "Number of months in test data: 18\n",
      "\n",
      "Evaluation metric results:-\n",
      "(Mean Squared Error) MSE is : 1079311002.152739\n",
      "(Mean Absolute Error) MAE is : 28315.626111111105\n",
      "(Root Mean Square Error) RMSE is : 32852.869009460024\n",
      "(Mean Absolute Percentage Error) MAPE is : 5.314387198880436\n",
      "(R-Squared) R2 is : -1.6366679270801416\n",
      "(adjusted R-Squared) adj-R2 is : 3.8014596725226504\n",
      "\n",
      "Number of months in test data: 18\n",
      "\n",
      "Evaluation metric results:-\n",
      "(Mean Squared Error) MSE is : 992987482.3176665\n",
      "(Mean Absolute Error) MAE is : 28282.46\n",
      "(Root Mean Square Error) RMSE is : 31511.703894230577\n",
      "(Mean Absolute Percentage Error) MAPE is : 5.355087919992299\n",
      "(R-Squared) R2 is : -2.570579571011339\n",
      "(adjusted R-Squared) adj-R2 is : 4.793740794199548\n",
      "\n"
     ]
    },
    {
     "name": "stderr",
     "output_type": "stream",
     "text": [
      "C:\\Users\\20202034\\.conda\\envs\\Geopandas\\lib\\site-packages\\ipykernel_launcher.py:22: DataConversionWarning: A column-vector y was passed when a 1d array was expected. Please change the shape of y to (n_samples,), for example using ravel().\n"
     ]
    },
    {
     "name": "stdout",
     "output_type": "stream",
     "text": [
      "Number of months in test data: 18\n",
      "\n",
      "Evaluation metric results:-\n",
      "(Mean Squared Error) MSE is : 1056608552.2409055\n",
      "(Mean Absolute Error) MAE is : 28506.21277777778\n",
      "(Root Mean Square Error) RMSE is : 32505.51572027285\n",
      "(Mean Absolute Percentage Error) MAPE is : 5.370407349120124\n",
      "(R-Squared) R2 is : -2.1571247228322656\n",
      "(adjusted R-Squared) adj-R2 is : 4.354445018009282\n",
      "\n",
      "Number of months in test data: 18\n",
      "\n",
      "Evaluation metric results:-\n",
      "(Mean Squared Error) MSE is : 1018505890.7480834\n",
      "(Mean Absolute Error) MAE is : 28691.881666666668\n",
      "(Root Mean Square Error) RMSE is : 31914.039085457098\n",
      "(Mean Absolute Percentage Error) MAPE is : 5.422087717055158\n",
      "(R-Squared) R2 is : -2.2452858868498686\n",
      "(adjusted R-Squared) adj-R2 is : 4.448116254777986\n",
      "\n"
     ]
    },
    {
     "name": "stderr",
     "output_type": "stream",
     "text": [
      "C:\\Users\\20202034\\.conda\\envs\\Geopandas\\lib\\site-packages\\ipykernel_launcher.py:22: DataConversionWarning: A column-vector y was passed when a 1d array was expected. Please change the shape of y to (n_samples,), for example using ravel().\n",
      "C:\\Users\\20202034\\.conda\\envs\\Geopandas\\lib\\site-packages\\ipykernel_launcher.py:22: DataConversionWarning: A column-vector y was passed when a 1d array was expected. Please change the shape of y to (n_samples,), for example using ravel().\n"
     ]
    },
    {
     "name": "stdout",
     "output_type": "stream",
     "text": [
      "Number of months in test data: 18\n",
      "\n",
      "Evaluation metric results:-\n",
      "(Mean Squared Error) MSE is : 1008050849.3129781\n",
      "(Mean Absolute Error) MAE is : 28495.061111111114\n",
      "(Root Mean Square Error) RMSE is : 31749.816524083697\n",
      "(Mean Absolute Percentage Error) MAPE is : 5.389482349996893\n",
      "(R-Squared) R2 is : -2.3453328103868016\n",
      "(adjusted R-Squared) adj-R2 is : 4.554416111035977\n",
      "\n",
      "Number of months in test data: 18\n",
      "\n",
      "Evaluation metric results:-\n",
      "(Mean Squared Error) MSE is : 1053896514.4111161\n",
      "(Mean Absolute Error) MAE is : 28838.84055555555\n",
      "(Root Mean Square Error) RMSE is : 32463.772337963375\n",
      "(Mean Absolute Percentage Error) MAPE is : 5.441675617197126\n",
      "(R-Squared) R2 is : -2.563350757777497\n",
      "(adjusted R-Squared) adj-R2 is : 4.786060180138591\n",
      "\n"
     ]
    },
    {
     "name": "stderr",
     "output_type": "stream",
     "text": [
      "C:\\Users\\20202034\\.conda\\envs\\Geopandas\\lib\\site-packages\\ipykernel_launcher.py:22: DataConversionWarning: A column-vector y was passed when a 1d array was expected. Please change the shape of y to (n_samples,), for example using ravel().\n",
      "C:\\Users\\20202034\\.conda\\envs\\Geopandas\\lib\\site-packages\\ipykernel_launcher.py:22: DataConversionWarning: A column-vector y was passed when a 1d array was expected. Please change the shape of y to (n_samples,), for example using ravel().\n"
     ]
    },
    {
     "name": "stdout",
     "output_type": "stream",
     "text": [
      "Number of months in test data: 18\n",
      "\n",
      "Evaluation metric results:-\n",
      "(Mean Squared Error) MSE is : 1006379967.6307223\n",
      "(Mean Absolute Error) MAE is : 28137.004444444443\n",
      "(Root Mean Square Error) RMSE is : 31723.49236182426\n",
      "(Mean Absolute Percentage Error) MAPE is : 5.31457549798195\n",
      "(R-Squared) R2 is : -1.8353984722193801\n",
      "(adjusted R-Squared) adj-R2 is : 4.012610876733092\n",
      "\n",
      "Number of months in test data: 18\n",
      "\n",
      "Evaluation metric results:-\n",
      "(Average Mean Squared Error) MSE is : 1038181486.8495089, sd: 1038181486.8495089\n",
      "(Average Mean Absolute Error) MAE is : 28504.21044444444, sd: 28504.21044444444\n",
      "(Average Root Mean Square Error) RMSE is : 32216.87100638419, sd: 32216.87100638419\n",
      "(Average Mean Absolute Percentage Error) MAPE is : 5.37655819609637, sd: 5.37655819609637\n",
      "(Average R-Squared) R2 is : -2.125429360187738, sd: -2.125429360187738\n",
      "(Average adjusted R-Squared) adj-R2 is : 4.3207686951994715, sd: 4.3207686951994715\n",
      "\n"
     ]
    }
   ],
   "source": [
    "average_scores_10_trainings(18, df_police_force_p_month, 'RF')"
   ]
  },
  {
   "cell_type": "code",
   "execution_count": null,
   "id": "bc204451",
   "metadata": {},
   "outputs": [],
   "source": []
  }
 ],
 "metadata": {
  "kernelspec": {
   "display_name": "Python 3 (ipykernel)",
   "language": "python",
   "name": "python3"
  },
  "language_info": {
   "codemirror_mode": {
    "name": "ipython",
    "version": 3
   },
   "file_extension": ".py",
   "mimetype": "text/x-python",
   "name": "python",
   "nbconvert_exporter": "python",
   "pygments_lexer": "ipython3",
   "version": "3.7.11"
  }
 },
 "nbformat": 4,
 "nbformat_minor": 5
}
