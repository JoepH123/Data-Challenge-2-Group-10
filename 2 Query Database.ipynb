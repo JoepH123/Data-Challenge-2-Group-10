{
 "cells": [
  {
   "cell_type": "code",
   "execution_count": 1,
   "id": "340f5972",
   "metadata": {},
   "outputs": [
    {
     "name": "stderr",
     "output_type": "stream",
     "text": [
      "C:\\Users\\20202034\\.conda\\envs\\Geopandas\\lib\\site-packages\\ipykernel_launcher.py:5: DeprecationWarning: Using or importing the ABCs from 'collections' instead of from 'collections.abc' is deprecated since Python 3.3,and in 3.9 it will stop working\n",
      "  \"\"\"\n"
     ]
    }
   ],
   "source": [
    "import sqlite3\n",
    "import re\n",
    "import pandas as pd\n",
    "import plotly.express as px\n",
    "from collections import Iterable\n",
    "from sqlite3 import connect"
   ]
  },
  {
   "cell_type": "code",
   "execution_count": null,
   "id": "68a4aaf7",
   "metadata": {},
   "outputs": [],
   "source": [
    "police_force =  \"SELECT [Falls within],Month, [LSOA NAME], COUNT(*) FROM test_db GROUP BY Month,[LSOA NAME]  \"\n",
    "conn = sqlite3.connect('Trial_database_all_data.db')\n",
    "df_police_force = pd.read_sql_query(police_force, conn)\n",
    "df_police_force['County'] = df_police_force['LSOA name'].str.replace(r'[0-9]+[A-Z]', '', regex=True).str.rstrip()\n",
    "df_police_force['Month_of_year'] = df_police_force['Month'].str.replace(r'(\\d{4})-', '', regex=True).str.rstrip()\n",
    "\n",
    "#Putting into csv file\n",
    "df_police_force = pd.read_csv('police force dataset grouped and preprocessed.csv', sep=';')"
   ]
  },
  {
   "cell_type": "code",
   "execution_count": null,
   "id": "c446a771",
   "metadata": {},
   "outputs": [],
   "source": [
    "crime_type =  \"SELECT [Crime type],Month, [LSOA NAME], COUNT(*) FROM test_db GROUP BY Month,[LSOA NAME]  \"\n",
    "conn = sqlite3.connect('Test_database.db')\n",
    "df_crime_type = pd.read_sql_query(crime_type, conn)\n",
    "df_crime_type['County'] = df_crime_type['LSOA name'].str.replace(r'[0-9]+[A-Z]', '', regex=True).str.rstrip()\n",
    "df_crime_type['Month_of_year'] = df_crime_type['Month'].str.replace(r'(\\d{4})-', '', regex=True).str.rstrip()\n",
    "\n",
    "#Putting into csv file \n",
    "df_crime_type.to_csv('crime type dataset grouped and preprocessed.csv', sep = ';')"
   ]
  }
 ],
 "metadata": {
  "kernelspec": {
   "display_name": "Python 3 (ipykernel)",
   "language": "python",
   "name": "python3"
  },
  "language_info": {
   "codemirror_mode": {
    "name": "ipython",
    "version": 3
   },
   "file_extension": ".py",
   "mimetype": "text/x-python",
   "name": "python",
   "nbconvert_exporter": "python",
   "pygments_lexer": "ipython3",
   "version": "3.7.11"
  }
 },
 "nbformat": 4,
 "nbformat_minor": 5
}
